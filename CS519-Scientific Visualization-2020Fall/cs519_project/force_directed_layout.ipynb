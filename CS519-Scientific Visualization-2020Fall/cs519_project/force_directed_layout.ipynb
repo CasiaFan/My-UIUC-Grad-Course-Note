{
 "metadata": {
  "language_info": {
   "codemirror_mode": {
    "name": "ipython",
    "version": 3
   },
   "file_extension": ".py",
   "mimetype": "text/x-python",
   "name": "python",
   "nbconvert_exporter": "python",
   "pygments_lexer": "ipython3",
   "version": "3.7.7-final"
  },
  "orig_nbformat": 2,
  "kernelspec": {
   "name": "Python 3.7.7 64-bit ('pytorch': conda)",
   "display_name": "Python 3.7.7 64-bit ('pytorch': conda)",
   "metadata": {
    "interpreter": {
     "hash": "e560de79de660c9950c0b8123c7f75176f0fb4478a61ff2b8e9b00fd13219683"
    }
   }
  }
 },
 "nbformat": 4,
 "nbformat_minor": 2,
 "cells": [
  {
   "cell_type": "code",
   "execution_count": 34,
   "metadata": {},
   "outputs": [],
   "source": [
    "import networkx as nx \n",
    "import matplotlib.pyplot as plt \n",
    "import math \n",
    "import numpy as np\n",
    "from random import random \n",
    "from numpy import arange"
   ]
  },
  {
   "cell_type": "code",
   "execution_count": 23,
   "metadata": {},
   "outputs": [],
   "source": [
    "W = 1\n",
    "L = 1\n",
    "area = W*L "
   ]
  },
  {
   "cell_type": "code",
   "execution_count": 24,
   "metadata": {},
   "outputs": [],
   "source": [
    "def f_a(d, k):\n",
    "    return d**2/k \n",
    "\n",
    "def f_r(d, k):\n",
    "    return k**2/d"
   ]
  },
  {
   "cell_type": "code",
   "execution_count": 25,
   "metadata": {},
   "outputs": [],
   "source": [
    "def fruchterman_reingold(G,iteration):\n",
    "   \n",
    "    area = W*L\n",
    "    k = math.sqrt(area/nx.number_of_nodes(G))\n",
    "    \n",
    "    t = W/2\n",
    "    dt = t/(iteration+1)\n",
    "\n",
    "    for i in range(iteration):\n",
    "        #print(i, \" of \", iteration)\n",
    "        \n",
    "        # ALREADY COMPLETED. SEE CODE CELL BELOW.\n",
    "        G = calculate_repulsive_forces(G, k)\n",
    "       \n",
    "        # COMPLETE THIS FUNCTION LATER\n",
    "        G = calculate_attractive_forces(G, k)\n",
    "        \n",
    "        # Limit the maximum displacement to the temperature t\n",
    "        # and then prevent from being displaced outside frame\n",
    "        for v in G.nodes():\n",
    "            dx = G.nodes[v]['dx']\n",
    "            dy = G.nodes[v]['dy']\n",
    "            disp = math.sqrt(dx*dx+dy*dy)\n",
    "            if disp != 0:\n",
    "                d = min(disp,t)/disp\n",
    "                x = G.nodes[v]['x'] + dx*d\n",
    "                y = G.nodes[v]['y'] + dy*d\n",
    "                x =  min(W,max(0,x)) - W/2\n",
    "                y =  min(L,max(0,y)) - L/2\n",
    "                G.nodes[v]['x'] = min(math.sqrt(W*W/4-y*y),max(-math.sqrt(W*W/4-y*y),x)) + W/2\n",
    "                G.nodes[v]['y'] = min(math.sqrt(L*L/4-x*x),max(-math.sqrt(L*L/4-x*x),y)) + L/2\n",
    "\n",
    "        # Cooling\n",
    "        t -= dt\n",
    "\n",
    "    pos = {}\n",
    "    for v in G.nodes():\n",
    "        pos[v] = [G.nodes[v]['x'],G.nodes[v]['y']]\n",
    "        \n",
    "    plt.close()\n",
    "    plt.ylim([-0.1,1.1])\n",
    "    plt.xlim([-0.1,1.1])\n",
    "    plt.axis('off')\n",
    "        \n",
    "    return pos"
   ]
  },
  {
   "cell_type": "code",
   "execution_count": 11,
   "metadata": {},
   "outputs": [],
   "source": [
    "def calculate_repulsive_forces(G, k):       \n",
    "    for v in G.nodes():\n",
    "        G.nodes[v]['dx'] = 0\n",
    "        G.nodes[v]['dy'] = 0\n",
    "        for u in G.nodes():\n",
    "            if v != u:\n",
    "                dx = G.nodes[v]['x'] - G.nodes[u]['x']\n",
    "                dy = G.nodes[v]['y'] - G.nodes[u]['y']\n",
    "                delta = math.sqrt(dx*dx+dy*dy)\n",
    "                if delta != 0:\n",
    "                    d = f_r(delta,k)/delta\n",
    "                    G.nodes[v]['dx'] += dx*d\n",
    "                    G.nodes[v]['dy'] += dy*d\n",
    "    return G"
   ]
  },
  {
   "cell_type": "code",
   "execution_count": 26,
   "metadata": {},
   "outputs": [
    {
     "output_type": "stream",
     "name": "stdout",
     "text": [
      "0.24948654344555685 0.45952698460685937 -0.9621305877084074 -2.275891211171931 2.621961494081873\n"
     ]
    }
   ],
   "source": [
    "def calculate_attractive_forces(G, k):\n",
    "    for v, u in G.edges():\n",
    "        dx = G.nodes[v]['x'] - G.nodes[u]['x']\n",
    "        dy = G.nodes[v]['y'] - G.nodes[u]['y']\n",
    "        delta = math.sqrt(dx*dx+dy*dy)\n",
    "        if delta != 0:\n",
    "            d = f_a(delta, k) /delta\n",
    "            G.nodes[v]['dx'] -= dx*d \n",
    "            G.nodes[v]['dy'] -= dy*d \n",
    "            G.nodes[u]['dx'] += dx*d \n",
    "            G.nodes[u]['dy'] += dy*d \n",
    "    return G \n",
    "\n",
    "N = 5\n",
    "G = nx.cycle_graph(N)\n",
    "\n",
    "G.nodes[0]['x'] = 0.8168184889480099\n",
    "G.nodes[0]['y'] = 0.5311428534216505\n",
    "G.nodes[1]['x'] = 0.6654594641114429\n",
    "G.nodes[1]['y'] = 0.7842081286602168\n",
    "G.nodes[2]['x'] = 0.9229503471222402\n",
    "G.nodes[2]['y'] = 0.21495774524514744\n",
    "G.nodes[3]['x'] = 0.1353894225040374\n",
    "G.nodes[3]['y'] = 0.9657448268419787\n",
    "G.nodes[4]['x'] = 0.037138912320340944\n",
    "G.nodes[4]['y'] = 0.578448424341083\n",
    "\n",
    "for v in G.nodes():\n",
    "    G.nodes[v]['dx'] = 0\n",
    "    G.nodes[v]['dy'] = 0\n",
    "\n",
    "k = math.sqrt(area/nx.number_of_nodes(G))\n",
    "\n",
    "G_a = calculate_attractive_forces(G, k)\n",
    "print(G_a.nodes[0]['dy'], G_a.nodes[1]['dx'], G_a.nodes[1]['dy'], G_a.nodes[2]['dx'], G_a.nodes[2]['dy'])"
   ]
  },
  {
   "cell_type": "code",
   "execution_count": 29,
   "metadata": {},
   "outputs": [
    {
     "output_type": "display_data",
     "data": {
      "text/plain": "<Figure size 432x288 with 1 Axes>",
      "image/svg+xml": "<?xml version=\"1.0\" encoding=\"utf-8\" standalone=\"no\"?>\n<!DOCTYPE svg PUBLIC \"-//W3C//DTD SVG 1.1//EN\"\n  \"http://www.w3.org/Graphics/SVG/1.1/DTD/svg11.dtd\">\n<!-- Created with matplotlib (https://matplotlib.org/) -->\n<svg height=\"231.84pt\" version=\"1.1\" viewBox=\"0 0 349.2 231.84\" width=\"349.2pt\" xmlns=\"http://www.w3.org/2000/svg\" xmlns:xlink=\"http://www.w3.org/1999/xlink\">\n <metadata>\n  <rdf:RDF xmlns:cc=\"http://creativecommons.org/ns#\" xmlns:dc=\"http://purl.org/dc/elements/1.1/\" xmlns:rdf=\"http://www.w3.org/1999/02/22-rdf-syntax-ns#\">\n   <cc:Work>\n    <dc:type rdf:resource=\"http://purl.org/dc/dcmitype/StillImage\"/>\n    <dc:date>2020-11-30T17:33:00.143796</dc:date>\n    <dc:format>image/svg+xml</dc:format>\n    <dc:creator>\n     <cc:Agent>\n      <dc:title>Matplotlib v3.3.0, https://matplotlib.org/</dc:title>\n     </cc:Agent>\n    </dc:creator>\n   </cc:Work>\n  </rdf:RDF>\n </metadata>\n <defs>\n  <style type=\"text/css\">*{stroke-linecap:butt;stroke-linejoin:round;}</style>\n </defs>\n <g id=\"figure_1\">\n  <g id=\"patch_1\">\n   <path d=\"M 0 231.84 \nL 349.2 231.84 \nL 349.2 0 \nL 0 0 \nz\n\" style=\"fill:none;\"/>\n  </g>\n  <g id=\"axes_1\">\n   <g id=\"LineCollection_1\">\n    <path clip-path=\"url(#pc0216ee1d4)\" d=\"M 314.093818 115.92 \nL 190.960248 49.32188 \n\" style=\"fill:none;stroke:#000000;stroke-width:0.1;\"/>\n    <path clip-path=\"url(#pc0216ee1d4)\" d=\"M 314.093818 115.92 \nL 271.530392 180.359747 \n\" style=\"fill:none;stroke:#000000;stroke-width:0.1;\"/>\n    <path clip-path=\"url(#pc0216ee1d4)\" d=\"M 190.960248 49.32188 \nL 80.827775 119.955957 \n\" style=\"fill:none;stroke:#000000;stroke-width:0.1;\"/>\n    <path clip-path=\"url(#pc0216ee1d4)\" d=\"M 80.827775 119.955957 \nL 174.6 206.515783 \n\" style=\"fill:none;stroke:#000000;stroke-width:0.1;\"/>\n    <path clip-path=\"url(#pc0216ee1d4)\" d=\"M 174.6 206.515783 \nL 271.530392 180.359747 \n\" style=\"fill:none;stroke:#000000;stroke-width:0.1;\"/>\n   </g>\n   <g id=\"PathCollection_1\">\n    <defs>\n     <path d=\"M 0 1.581139 \nC 0.419323 1.581139 0.821528 1.41454 1.118034 1.118034 \nC 1.41454 0.821528 1.581139 0.419323 1.581139 0 \nC 1.581139 -0.419323 1.41454 -0.821528 1.118034 -1.118034 \nC 0.821528 -1.41454 0.419323 -1.581139 0 -1.581139 \nC -0.419323 -1.581139 -0.821528 -1.41454 -1.118034 -1.118034 \nC -1.41454 -0.821528 -1.581139 -0.419323 -1.581139 0 \nC -1.581139 0.419323 -1.41454 0.821528 -1.118034 1.118034 \nC -0.821528 1.41454 -0.419323 1.581139 0 1.581139 \nz\n\" id=\"m543800e91a\" style=\"stroke:#1f78b4;\"/>\n    </defs>\n    <g clip-path=\"url(#pc0216ee1d4)\">\n     <use style=\"fill:#1f78b4;stroke:#1f78b4;\" x=\"314.093818\" xlink:href=\"#m543800e91a\" y=\"115.92\"/>\n     <use style=\"fill:#1f78b4;stroke:#1f78b4;\" x=\"190.960248\" xlink:href=\"#m543800e91a\" y=\"49.32188\"/>\n     <use style=\"fill:#1f78b4;stroke:#1f78b4;\" x=\"80.827775\" xlink:href=\"#m543800e91a\" y=\"119.955957\"/>\n     <use style=\"fill:#1f78b4;stroke:#1f78b4;\" x=\"174.6\" xlink:href=\"#m543800e91a\" y=\"206.515783\"/>\n     <use style=\"fill:#1f78b4;stroke:#1f78b4;\" x=\"271.530392\" xlink:href=\"#m543800e91a\" y=\"180.359747\"/>\n    </g>\n   </g>\n  </g>\n </g>\n <defs>\n  <clipPath id=\"pc0216ee1d4\">\n   <rect height=\"217.44\" width=\"334.8\" x=\"7.2\" y=\"7.2\"/>\n  </clipPath>\n </defs>\n</svg>\n",
      "image/png": "[encoded data removed]"
     },
     "metadata": {}
    }
   ],
   "source": [
    "pos = fruchterman_reingold(G,200)\n",
    "nx.draw_networkx(G,pos=pos,node_size=10,width=0.1,with_labels=False)"
   ]
  },
  {
   "cell_type": "code",
   "execution_count": 35,
   "metadata": {},
   "outputs": [
    {
     "output_type": "display_data",
     "data": {
      "text/plain": "<Figure size 432x288 with 1 Axes>",
      "image/svg+xml": "<?xml version=\"1.0\" encoding=\"utf-8\" standalone=\"no\"?>\n<!DOCTYPE svg PUBLIC \"-//W3C//DTD SVG 1.1//EN\"\n  \"http://www.w3.org/Graphics/SVG/1.1/DTD/svg11.dtd\">\n<!-- Created with matplotlib (https://matplotlib.org/) -->\n<svg height=\"231.84pt\" version=\"1.1\" viewBox=\"0 0 349.2 231.84\" width=\"349.2pt\" xmlns=\"http://www.w3.org/2000/svg\" xmlns:xlink=\"http://www.w3.org/1999/xlink\">\n <metadata>\n  <rdf:RDF xmlns:cc=\"http://creativecommons.org/ns#\" xmlns:dc=\"http://purl.org/dc/elements/1.1/\" xmlns:rdf=\"http://www.w3.org/1999/02/22-rdf-syntax-ns#\">\n   <cc:Work>\n    <dc:type rdf:resource=\"http://purl.org/dc/dcmitype/StillImage\"/>\n    <dc:date>2020-11-30T17:37:10.206656</dc:date>\n    <dc:format>image/svg+xml</dc:format>\n    <dc:creator>\n     <cc:Agent>\n      <dc:title>Matplotlib v3.3.0, https://matplotlib.org/</dc:title>\n     </cc:Agent>\n    </dc:creator>\n   </cc:Work>\n  </rdf:RDF>\n </metadata>\n <defs>\n  <style type=\"text/css\">*{stroke-linecap:butt;stroke-linejoin:round;}</style>\n </defs>\n <g id=\"figure_1\">\n  <g id=\"patch_1\">\n   <path d=\"M 0 231.84 \nL 349.2 231.84 \nL 349.2 0 \nL 0 0 \nz\n\" style=\"fill:none;\"/>\n  </g>\n  <g id=\"axes_1\">\n   <g id=\"LineCollection_1\">\n    <path clip-path=\"url(#p47b03ccc09)\" d=\"M 217.792342 119.585705 \nL 118.574117 82.655453 \n\" style=\"fill:none;stroke:#000000;stroke-width:0.1;\"/>\n    <path clip-path=\"url(#p47b03ccc09)\" d=\"M 217.792342 119.585705 \nL 249.079503 181.499365 \n\" style=\"fill:none;stroke:#000000;stroke-width:0.1;\"/>\n    <path clip-path=\"url(#p47b03ccc09)\" d=\"M 217.792342 119.585705 \nL 313.155967 105.76199 \n\" style=\"fill:none;stroke:#000000;stroke-width:0.1;\"/>\n    <path clip-path=\"url(#p47b03ccc09)\" d=\"M 118.574117 82.655453 \nL 36.115834 126.708807 \n\" style=\"fill:none;stroke:#000000;stroke-width:0.1;\"/>\n    <path clip-path=\"url(#p47b03ccc09)\" d=\"M 118.574117 82.655453 \nL 145.969341 27.292438 \n\" style=\"fill:none;stroke:#000000;stroke-width:0.1;\"/>\n    <path clip-path=\"url(#p47b03ccc09)\" d=\"M 118.574117 82.655453 \nL 75.1895 52.458099 \n\" style=\"fill:none;stroke:#000000;stroke-width:0.1;\"/>\n    <path clip-path=\"url(#p47b03ccc09)\" d=\"M 249.079503 181.499365 \nL 183.315105 201.209887 \n\" style=\"fill:none;stroke:#000000;stroke-width:0.1;\"/>\n    <path clip-path=\"url(#p47b03ccc09)\" d=\"M 249.079503 181.499365 \nL 304.605947 148.575426 \n\" style=\"fill:none;stroke:#000000;stroke-width:0.1;\"/>\n    <path clip-path=\"url(#p47b03ccc09)\" d=\"M 249.079503 181.499365 \nL 174.6 206.519866 \n\" style=\"fill:none;stroke:#000000;stroke-width:0.1;\"/>\n    <path clip-path=\"url(#p47b03ccc09)\" d=\"M 313.155967 105.76199 \nL 314.1 115.92 \n\" style=\"fill:none;stroke:#000000;stroke-width:0.1;\"/>\n    <path clip-path=\"url(#p47b03ccc09)\" d=\"M 313.155967 105.76199 \nL 314.1 115.92 \n\" style=\"fill:none;stroke:#000000;stroke-width:0.1;\"/>\n    <path clip-path=\"url(#p47b03ccc09)\" d=\"M 313.155967 105.76199 \nL 286.729642 62.321505 \n\" style=\"fill:none;stroke:#000000;stroke-width:0.1;\"/>\n    <path clip-path=\"url(#p47b03ccc09)\" d=\"M 36.115834 126.708807 \nL 35.100003 115.92 \n\" style=\"fill:none;stroke:#000000;stroke-width:0.1;\"/>\n    <path clip-path=\"url(#p47b03ccc09)\" d=\"M 36.115834 126.708807 \nL 35.100003 115.92 \n\" style=\"fill:none;stroke:#000000;stroke-width:0.1;\"/>\n    <path clip-path=\"url(#p47b03ccc09)\" d=\"M 36.115834 126.708807 \nL 35.100003 115.92 \n\" style=\"fill:none;stroke:#000000;stroke-width:0.1;\"/>\n    <path clip-path=\"url(#p47b03ccc09)\" d=\"M 145.969341 27.292438 \nL 194.41229 27.502627 \n\" style=\"fill:none;stroke:#000000;stroke-width:0.1;\"/>\n    <path clip-path=\"url(#p47b03ccc09)\" d=\"M 145.969341 27.292438 \nL 159.409456 46.030122 \n\" style=\"fill:none;stroke:#000000;stroke-width:0.1;\"/>\n    <path clip-path=\"url(#p47b03ccc09)\" d=\"M 145.969341 27.292438 \nL 174.6 25.320032 \n\" style=\"fill:none;stroke:#000000;stroke-width:0.1;\"/>\n    <path clip-path=\"url(#p47b03ccc09)\" d=\"M 75.1895 52.458099 \nL 36.775034 102.442748 \n\" style=\"fill:none;stroke:#000000;stroke-width:0.1;\"/>\n    <path clip-path=\"url(#p47b03ccc09)\" d=\"M 75.1895 52.458099 \nL 163.808708 27.675137 \n\" style=\"fill:none;stroke:#000000;stroke-width:0.1;\"/>\n    <path clip-path=\"url(#p47b03ccc09)\" d=\"M 75.1895 52.458099 \nL 62.123979 91.889981 \n\" style=\"fill:none;stroke:#000000;stroke-width:0.1;\"/>\n    <path clip-path=\"url(#p47b03ccc09)\" d=\"M 183.315105 201.209887 \nL 197.298575 205.306378 \n\" style=\"fill:none;stroke:#000000;stroke-width:0.1;\"/>\n    <path clip-path=\"url(#p47b03ccc09)\" d=\"M 183.315105 201.209887 \nL 144.783687 186.888045 \n\" style=\"fill:none;stroke:#000000;stroke-width:0.1;\"/>\n    <path clip-path=\"url(#p47b03ccc09)\" d=\"M 183.315105 201.209887 \nL 197.298575 205.306378 \n\" style=\"fill:none;stroke:#000000;stroke-width:0.1;\"/>\n    <path clip-path=\"url(#p47b03ccc09)\" d=\"M 304.605947 148.575426 \nL 302.999776 119.634196 \n\" style=\"fill:none;stroke:#000000;stroke-width:0.1;\"/>\n    <path clip-path=\"url(#p47b03ccc09)\" d=\"M 304.605947 148.575426 \nL 311.141371 97.615061 \n\" style=\"fill:none;stroke:#000000;stroke-width:0.1;\"/>\n    <path clip-path=\"url(#p47b03ccc09)\" d=\"M 304.605947 148.575426 \nL 302.999776 119.634196 \n\" style=\"fill:none;stroke:#000000;stroke-width:0.1;\"/>\n    <path clip-path=\"url(#p47b03ccc09)\" d=\"M 174.6 206.519866 \nL 169.356518 206.38295 \n\" style=\"fill:none;stroke:#000000;stroke-width:0.1;\"/>\n    <path clip-path=\"url(#p47b03ccc09)\" d=\"M 174.6 206.519866 \nL 169.356518 206.38295 \n\" style=\"fill:none;stroke:#000000;stroke-width:0.1;\"/>\n   </g>\n   <g id=\"PathCollection_1\">\n    <defs>\n     <path d=\"M 0 1.581139 \nC 0.419323 1.581139 0.821528 1.41454 1.118034 1.118034 \nC 1.41454 0.821528 1.581139 0.419323 1.581139 0 \nC 1.581139 -0.419323 1.41454 -0.821528 1.118034 -1.118034 \nC 0.821528 -1.41454 0.419323 -1.581139 0 -1.581139 \nC -0.419323 -1.581139 -0.821528 -1.41454 -1.118034 -1.118034 \nC -1.41454 -0.821528 -1.581139 -0.419323 -1.581139 0 \nC -1.581139 0.419323 -1.41454 0.821528 -1.118034 1.118034 \nC -0.821528 1.41454 -0.419323 1.581139 0 1.581139 \nz\n\" id=\"m0b3b499f85\" style=\"stroke:#1f78b4;\"/>\n    </defs>\n    <g clip-path=\"url(#p47b03ccc09)\">\n     <use style=\"fill:#1f78b4;stroke:#1f78b4;\" x=\"217.792342\" xlink:href=\"#m0b3b499f85\" y=\"119.585705\"/>\n     <use style=\"fill:#1f78b4;stroke:#1f78b4;\" x=\"118.574117\" xlink:href=\"#m0b3b499f85\" y=\"82.655453\"/>\n     <use style=\"fill:#1f78b4;stroke:#1f78b4;\" x=\"249.079503\" xlink:href=\"#m0b3b499f85\" y=\"181.499365\"/>\n     <use style=\"fill:#1f78b4;stroke:#1f78b4;\" x=\"313.155967\" xlink:href=\"#m0b3b499f85\" y=\"105.76199\"/>\n     <use style=\"fill:#1f78b4;stroke:#1f78b4;\" x=\"36.115834\" xlink:href=\"#m0b3b499f85\" y=\"126.708807\"/>\n     <use style=\"fill:#1f78b4;stroke:#1f78b4;\" x=\"145.969341\" xlink:href=\"#m0b3b499f85\" y=\"27.292438\"/>\n     <use style=\"fill:#1f78b4;stroke:#1f78b4;\" x=\"75.1895\" xlink:href=\"#m0b3b499f85\" y=\"52.458099\"/>\n     <use style=\"fill:#1f78b4;stroke:#1f78b4;\" x=\"183.315105\" xlink:href=\"#m0b3b499f85\" y=\"201.209887\"/>\n     <use style=\"fill:#1f78b4;stroke:#1f78b4;\" x=\"304.605947\" xlink:href=\"#m0b3b499f85\" y=\"148.575426\"/>\n     <use style=\"fill:#1f78b4;stroke:#1f78b4;\" x=\"174.6\" xlink:href=\"#m0b3b499f85\" y=\"206.519866\"/>\n     <use style=\"fill:#1f78b4;stroke:#1f78b4;\" x=\"314.1\" xlink:href=\"#m0b3b499f85\" y=\"115.92\"/>\n     <use style=\"fill:#1f78b4;stroke:#1f78b4;\" x=\"314.1\" xlink:href=\"#m0b3b499f85\" y=\"115.92\"/>\n     <use style=\"fill:#1f78b4;stroke:#1f78b4;\" x=\"286.729642\" xlink:href=\"#m0b3b499f85\" y=\"62.321505\"/>\n     <use style=\"fill:#1f78b4;stroke:#1f78b4;\" x=\"35.100003\" xlink:href=\"#m0b3b499f85\" y=\"115.92\"/>\n     <use style=\"fill:#1f78b4;stroke:#1f78b4;\" x=\"35.100003\" xlink:href=\"#m0b3b499f85\" y=\"115.92\"/>\n     <use style=\"fill:#1f78b4;stroke:#1f78b4;\" x=\"35.100003\" xlink:href=\"#m0b3b499f85\" y=\"115.92\"/>\n     <use style=\"fill:#1f78b4;stroke:#1f78b4;\" x=\"194.41229\" xlink:href=\"#m0b3b499f85\" y=\"27.502627\"/>\n     <use style=\"fill:#1f78b4;stroke:#1f78b4;\" x=\"159.409456\" xlink:href=\"#m0b3b499f85\" y=\"46.030122\"/>\n     <use style=\"fill:#1f78b4;stroke:#1f78b4;\" x=\"174.6\" xlink:href=\"#m0b3b499f85\" y=\"25.320032\"/>\n     <use style=\"fill:#1f78b4;stroke:#1f78b4;\" x=\"36.775034\" xlink:href=\"#m0b3b499f85\" y=\"102.442748\"/>\n     <use style=\"fill:#1f78b4;stroke:#1f78b4;\" x=\"163.808708\" xlink:href=\"#m0b3b499f85\" y=\"27.675137\"/>\n     <use style=\"fill:#1f78b4;stroke:#1f78b4;\" x=\"62.123979\" xlink:href=\"#m0b3b499f85\" y=\"91.889981\"/>\n     <use style=\"fill:#1f78b4;stroke:#1f78b4;\" x=\"197.298575\" xlink:href=\"#m0b3b499f85\" y=\"205.306378\"/>\n     <use style=\"fill:#1f78b4;stroke:#1f78b4;\" x=\"144.783687\" xlink:href=\"#m0b3b499f85\" y=\"186.888045\"/>\n     <use style=\"fill:#1f78b4;stroke:#1f78b4;\" x=\"197.298575\" xlink:href=\"#m0b3b499f85\" y=\"205.306378\"/>\n     <use style=\"fill:#1f78b4;stroke:#1f78b4;\" x=\"302.999776\" xlink:href=\"#m0b3b499f85\" y=\"119.634196\"/>\n     <use style=\"fill:#1f78b4;stroke:#1f78b4;\" x=\"311.141371\" xlink:href=\"#m0b3b499f85\" y=\"97.615061\"/>\n     <use style=\"fill:#1f78b4;stroke:#1f78b4;\" x=\"302.999776\" xlink:href=\"#m0b3b499f85\" y=\"119.634196\"/>\n     <use style=\"fill:#1f78b4;stroke:#1f78b4;\" x=\"169.356518\" xlink:href=\"#m0b3b499f85\" y=\"206.38295\"/>\n     <use style=\"fill:#1f78b4;stroke:#1f78b4;\" x=\"169.356518\" xlink:href=\"#m0b3b499f85\" y=\"206.38295\"/>\n    </g>\n   </g>\n  </g>\n </g>\n <defs>\n  <clipPath id=\"p47b03ccc09\">\n   <rect height=\"217.44\" width=\"334.8\" x=\"7.2\" y=\"7.2\"/>\n  </clipPath>\n </defs>\n</svg>\n",
      "image/png": "[encoded data removed]"
     },
     "metadata": {}
    }
   ],
   "source": [
    "G = nx.full_rary_tree(3,30)\n",
    "\n",
    "# initial position\n",
    "for v in nx.nodes(G):\n",
    "    G.nodes[v]['x'] = W*random()\n",
    "    G.nodes[v]['y'] = L*random()\n",
    "    \n",
    "pos = {}\n",
    "for v in G.nodes():\n",
    "    pos[v] = [G.nodes[v]['x'],G.nodes[v]['y']]\n",
    "    \n",
    "nx.draw_networkx(G,pos=pos,node_size=10,width=0.1,with_labels=False)\n",
    "pos = fruchterman_reingold(G,1000)\n",
    "\n",
    "plt.close()\n",
    "plt.ylim([-0.1,1.1])\n",
    "plt.xlim([-0.1,1.1])\n",
    "plt.axis('off')\n",
    "nx.draw_networkx(G,pos=pos,node_size=10,width=0.1,with_labels=False)"
   ]
  },
  {
   "cell_type": "code",
   "execution_count": null,
   "metadata": {},
   "outputs": [],
   "source": []
  }
 ]
}