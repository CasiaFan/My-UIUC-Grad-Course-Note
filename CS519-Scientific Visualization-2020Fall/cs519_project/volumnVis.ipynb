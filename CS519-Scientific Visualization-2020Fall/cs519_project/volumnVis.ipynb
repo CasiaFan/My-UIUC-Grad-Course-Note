{
 "metadata": {
  "language_info": {
   "codemirror_mode": {
    "name": "ipython",
    "version": 3
   },
   "file_extension": ".py",
   "mimetype": "text/x-python",
   "name": "python",
   "nbconvert_exporter": "python",
   "pygments_lexer": "ipython3",
   "version": "3.7.7-final"
  },
  "orig_nbformat": 2,
  "kernelspec": {
   "name": "Python 3.7.7 64-bit ('pytorch': conda)",
   "display_name": "Python 3.7.7 64-bit ('pytorch': conda)",
   "metadata": {
    "interpreter": {
     "hash": "e560de79de660c9950c0b8123c7f75176f0fb4478a61ff2b8e9b00fd13219683"
    }
   }
  }
 },
 "nbformat": 4,
 "nbformat_minor": 2,
 "cells": [
  {
   "cell_type": "code",
   "execution_count": 2,
   "metadata": {},
   "outputs": [],
   "source": [
    "from pyvista import set_plot_theme\n",
    "set_plot_theme('document')\n"
   ]
  },
  {
   "cell_type": "code",
   "execution_count": 3,
   "metadata": {},
   "outputs": [],
   "source": [
    "import numpy as np\n",
    "import pyvista as pv\n",
    "from itkwidgets import view, compare, cm\n",
    "import itkwidgets\n",
    "from pyvista import examples\n",
    "\n",
    "# Volume rendering is not supported with Panel yet\n",
    "pv.rcParams[\"use_panel\"] = False"
   ]
  },
  {
   "cell_type": "code",
   "execution_count": 7,
   "metadata": {},
   "outputs": [
    {
     "output_type": "execute_result",
     "data": {
      "text/plain": [
       "UniformGrid (0x7fdf61df17c0)\n",
       "  N Cells:\t10225800\n",
       "  N Points:\t10368384\n",
       "  X Bounds:\t0.000e+00, 1.497e+02\n",
       "  Y Bounds:\t0.000e+00, 1.786e+02\n",
       "  Z Bounds:\t0.000e+00, 2.000e+02\n",
       "  Dimensions:\t208, 248, 201\n",
       "  Spacing:\t7.230e-01, 7.230e-01, 1.000e+00\n",
       "  N Arrays:\t1"
      ],
      "text/html": "<table><tr><th>Header</th><th>Data Arrays</th></tr><tr><td>\n<table>\n<tr><th>UniformGrid</th><th>Information</th></tr>\n<tr><td>N Cells</td><td>10225800</td></tr>\n<tr><td>N Points</td><td>10368384</td></tr>\n<tr><td>X Bounds</td><td>0.000e+00, 1.497e+02</td></tr>\n<tr><td>Y Bounds</td><td>0.000e+00, 1.786e+02</td></tr>\n<tr><td>Z Bounds</td><td>0.000e+00, 2.000e+02</td></tr>\n<tr><td>Dimensions</td><td>208, 248, 201</td></tr>\n<tr><td>Spacing</td><td>7.230e-01, 7.230e-01, 1.000e+00</td></tr>\n<tr><td>N Arrays</td><td>1</td></tr>\n</table>\n\n</td><td>\n<table>\n<tr><th>Name</th><th>Field</th><th>Type</th><th>N Comp</th><th>Min</th><th>Max</th></tr>\n<tr><td><b>SLCImage</b></td><td>Points</td><td>uint8</td><td>1</td><td>0.000e+00</td><td>1.740e+02</td></tr>\n</table>\n\n</td></tr> </table>"
     },
     "metadata": {},
     "execution_count": 7
    }
   ],
   "source": [
    "vol = examples.download_knee_full()\n",
    "vol"
   ]
  },
  {
   "cell_type": "code",
   "execution_count": 8,
   "metadata": {},
   "outputs": [
    {
     "output_type": "display_data",
     "data": {
      "text/plain": "Viewer(camera=array([[-3.81740e+02, -4.60200e+01,  2.16540e+02],\n       [ 7.48305e+01,  8.92905e+01,  1.00000e…",
      "application/vnd.jupyter.widget-view+json": {
       "version_major": 2,
       "version_minor": 0,
       "model_id": "326e2cd38b864aa0a023431bd4bc5cc7"
      }
     },
     "metadata": {}
    }
   ],
   "source": [
    "cpos = [(-381.74, -46.02, 216.54), (74.8305, 89.2905, 100.0), (0.23, 0.072, 0.97)]\n",
    "\n",
    "viewer = view(vol, cmap=cm.bone, camera=cpos, shadow=False) # No shading\n",
    "viewer"
   ]
  },
  {
   "cell_type": "code",
   "execution_count": null,
   "metadata": {},
   "outputs": [],
   "source": [
    "# viewer = view(vol, cmap=cm.bone, camera=cpos, shadow=False, gradient_opacity=0.6, opacity=\"sigmoid\")\n",
    "# viewer"
   ]
  },
  {
   "cell_type": "code",
   "execution_count": 35,
   "metadata": {},
   "outputs": [
    {
     "output_type": "execute_result",
     "data": {
      "text/plain": [
       "UniformGrid (0x7fdf5c0573d0)\n",
       "  N Cells:\t31594185\n",
       "  N Points:\t31960000\n",
       "  X Bounds:\t0.000e+00, 4.990e+02\n",
       "  Y Bounds:\t0.000e+00, 4.690e+02\n",
       "  Z Bounds:\t0.000e+00, 2.025e+02\n",
       "  Dimensions:\t500, 470, 136\n",
       "  Spacing:\t1.000e+00, 1.000e+00, 1.500e+00\n",
       "  N Arrays:\t1"
      ],
      "text/html": "<table><tr><th>Header</th><th>Data Arrays</th></tr><tr><td>\n<table>\n<tr><th>UniformGrid</th><th>Information</th></tr>\n<tr><td>N Cells</td><td>31594185</td></tr>\n<tr><td>N Points</td><td>31960000</td></tr>\n<tr><td>X Bounds</td><td>0.000e+00, 4.990e+02</td></tr>\n<tr><td>Y Bounds</td><td>0.000e+00, 4.690e+02</td></tr>\n<tr><td>Z Bounds</td><td>0.000e+00, 2.025e+02</td></tr>\n<tr><td>Dimensions</td><td>500, 470, 136</td></tr>\n<tr><td>Spacing</td><td>1.000e+00, 1.000e+00, 1.500e+00</td></tr>\n<tr><td>N Arrays</td><td>1</td></tr>\n</table>\n\n</td><td>\n<table>\n<tr><th>Name</th><th>Field</th><th>Type</th><th>N Comp</th><th>Min</th><th>Max</th></tr>\n<tr><td><b>MetaImage</b></td><td>Points</td><td>uint8</td><td>1</td><td>0.000e+00</td><td>2.540e+02</td></tr>\n</table>\n\n</td></tr> </table>"
     },
     "metadata": {},
     "execution_count": 35
    }
   ],
   "source": [
    "vol_frog = examples.download_frog()\n",
    "vol_frog\n"
   ]
  },
  {
   "cell_type": "code",
   "execution_count": 5,
   "metadata": {},
   "outputs": [
    {
     "output_type": "stream",
     "name": "stdout",
     "text": [
      "4.0\n",
      "202.5\n"
     ]
    }
   ],
   "source": [
    "print(vol_frog.x[4])\n",
    "print(vol_frog.z[-4])"
   ]
  },
  {
   "cell_type": "code",
   "execution_count": 6,
   "metadata": {},
   "outputs": [
    {
     "output_type": "display_data",
     "data": {
      "text/plain": "Viewer(camera=array([[ 9.2900e+02,  1.0670e+03, -2.7890e+02],\n       [ 2.4950e+02,  2.3450e+02,  2.0125e+02],\n…",
      "application/vnd.jupyter.widget-view+json": {
       "version_major": 2,
       "version_minor": 0,
       "model_id": "52af13cd59164deda960223527e32b5c"
      }
     },
     "metadata": {}
    }
   ],
   "source": [
    "cpos = [(929., 1067., -278.9), (249.5, 234.5, 201.25), (-0.2048, -0.2632, -0.9427)]\n",
    "viewer = view(vol_frog, camera=cpos, shadow=True)\n",
    "# viewer"
   ]
  },
  {
   "cell_type": "code",
   "execution_count": 17,
   "metadata": {},
   "outputs": [
    {
     "output_type": "execute_result",
     "data": {
      "text/plain": [
       "UniformGrid (0x7fdf68cf1520)\n",
       "  N Cells:\t9433935\n",
       "  N Points:\t9588000\n",
       "  X Bounds:\t7.500e+01, 2.240e+02\n",
       "  Y Bounds:\t2.350e+02, 7.040e+02\n",
       "  Z Bounds:\t6.800e+01, 2.705e+02\n",
       "  Dimensions:\t150, 470, 136\n",
       "  Spacing:\t1.000e+00, 1.000e+00, 1.500e+00\n",
       "  N Arrays:\t1"
      ],
      "text/html": "<table><tr><th>Header</th><th>Data Arrays</th></tr><tr><td>\n<table>\n<tr><th>UniformGrid</th><th>Information</th></tr>\n<tr><td>N Cells</td><td>9433935</td></tr>\n<tr><td>N Points</td><td>9588000</td></tr>\n<tr><td>X Bounds</td><td>7.500e+01, 2.240e+02</td></tr>\n<tr><td>Y Bounds</td><td>2.350e+02, 7.040e+02</td></tr>\n<tr><td>Z Bounds</td><td>6.800e+01, 2.705e+02</td></tr>\n<tr><td>Dimensions</td><td>150, 470, 136</td></tr>\n<tr><td>Spacing</td><td>1.000e+00, 1.000e+00, 1.500e+00</td></tr>\n<tr><td>N Arrays</td><td>1</td></tr>\n</table>\n\n</td><td>\n<table>\n<tr><th>Name</th><th>Field</th><th>Type</th><th>N Comp</th><th>Min</th><th>Max</th></tr>\n<tr><td><b>MetaImage</b></td><td>Points</td><td>uint8</td><td>1</td><td>0.000e+00</td><td>2.270e+02</td></tr>\n</table>\n\n</td></tr> </table>"
     },
     "metadata": {},
     "execution_count": 17
    }
   ],
   "source": [
    "head = pv.UniformGridFilters.extract_subset(vol_frog, voi=(350, 499, 0, 469, 0, 135))\n",
    "head.origin = [150/2, 470/2, 136/2]\n",
    "head"
   ]
  },
  {
   "cell_type": "code",
   "execution_count": 43,
   "metadata": {},
   "outputs": [
    {
     "output_type": "execute_result",
     "data": {
      "text/plain": [
       "202.5"
      ]
     },
     "metadata": {},
     "execution_count": 43
    }
   ],
   "source": [
    "vol_frog.spacing\n",
    "vol_frog.z[-56]"
   ]
  },
  {
   "cell_type": "code",
   "execution_count": 63,
   "metadata": {},
   "outputs": [],
   "source": [
    "stretched_frog = pv.UniformGrid()\n",
    "stretched_frog.dimensions = vol_frog.dimensions\n",
    "stretched_frog.spacing = [1.0, 1.0, 3.0]\n",
    "stretched_frog.point_arrays[\"scalars\"] = vol_frog.point_arrays[\"MetaImage\"]\n",
    "\n"
   ]
  },
  {
   "cell_type": "code",
   "execution_count": 64,
   "metadata": {},
   "outputs": [
    {
     "output_type": "stream",
     "name": "stdout",
     "text": [
      "[500, 470, 136]\n",
      "405.0\n",
      "0\n"
     ]
    }
   ],
   "source": [
    "print(stretched_frog.dimensions)\n",
    "print(stretched_frog.z[-56])\n",
    "print(stretched_frog.point_arrays[\"scalars\"][6])"
   ]
  },
  {
   "cell_type": "code",
   "execution_count": 54,
   "metadata": {},
   "outputs": [
    {
     "output_type": "execute_result",
     "data": {
      "text/plain": [
       "202.5"
      ]
     },
     "metadata": {},
     "execution_count": 54
    }
   ],
   "source": [
    "vol_frog.z[-56]"
   ]
  },
  {
   "cell_type": "code",
   "execution_count": 62,
   "metadata": {},
   "outputs": [
    {
     "output_type": "execute_result",
     "data": {
      "text/plain": [
       "array([  0. ,   0. ,   0. , ..., 607.5, 607.5, 607.5])"
      ]
     },
     "metadata": {},
     "execution_count": 62
    }
   ],
   "source": [
    "stretched_frog.z"
   ]
  },
  {
   "cell_type": "code",
   "execution_count": null,
   "metadata": {},
   "outputs": [],
   "source": []
  }
 ]
}